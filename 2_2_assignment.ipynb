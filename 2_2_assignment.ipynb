{
 "cells": [
  {
   "cell_type": "markdown",
   "metadata": {
    "id": "-89_Z_je0cfL"
   },
   "source": [
    "# Assignment 2.2\n",
    "\n",
    "> Replace all TODOs with your code.\n",
    ">\n",
    "> Do not change any other code and do not add/remove cells!"
   ]
  },
  {
   "cell_type": "markdown",
   "metadata": {
    "id": "w6E-GxTB0j4M"
   },
   "source": [
    "## For-loop"
   ]
  },
  {
   "cell_type": "markdown",
   "metadata": {
    "id": "iEwuf_DP0cfM"
   },
   "source": [
    "### Task 1\n",
    "\n",
    "Write a program that prints the numbers from `a` to `b` using for loop."
   ]
  },
  {
   "cell_type": "code",
   "execution_count": 1,
   "metadata": {
    "id": "IWVOCWxx0cfM",
    "tags": []
   },
   "outputs": [
    {
     "name": "stdout",
     "output_type": "stream",
     "text": [
      "1\n",
      "2\n",
      "3\n",
      "4\n",
      "5\n"
     ]
    }
   ],
   "source": [
    "a = 1\n",
    "b = 5\n",
    "\n",
    "for n in range (a, b + 1): # TODO\n",
    "    print(n)\n",
    "# should print 1 2 3 4 5"
   ]
  },
  {
   "cell_type": "markdown",
   "metadata": {
    "id": "mZydlWw_0wzt"
   },
   "source": [
    "## Functions"
   ]
  },
  {
   "cell_type": "markdown",
   "metadata": {
    "id": "2z8HqsaK0cfN"
   },
   "source": [
    "### Task 2\n",
    "\n",
    "Create a function called `is_prime` that takes a number as a parameter, returns `True` if the number is prime, and `False` otherwise."
   ]
  },
  {
   "cell_type": "code",
   "execution_count": 23,
   "metadata": {
    "id": "kva_9ycA0cfN"
   },
   "outputs": [
    {
     "name": "stdout",
     "output_type": "stream",
     "text": [
      "Is 11 a prime? True\n",
      "Is 9 a prime? False\n"
     ]
    }
   ],
   "source": [
    "def is_prime(num):\n",
    "    if num<2:\n",
    "        return False\n",
    "    for i in range(2, num):\n",
    "        if num % i==0:\n",
    "            return False\n",
    "    return True\n",
    "\n",
    "\n",
    "print('Is 11 a prime?', is_prime(11))  # should be True\n",
    "print('Is 9 a prime?', is_prime(9))  # should be False"
   ]
  },
  {
   "cell_type": "markdown",
   "metadata": {
    "id": "IqjW7SGS0cfN"
   },
   "source": [
    "### Task 3\n",
    "\n",
    "Write a function called `find_primes` that takes two integers, `a` and `b`, and prints all the prime numbers between `a` and `b` (inclusive).\n",
    "\n",
    "You can use the function from the previous exercise."
   ]
  },
  {
   "cell_type": "code",
   "execution_count": 22,
   "metadata": {
    "id": "p83RQvA40cfN"
   },
   "outputs": [
    {
     "name": "stdout",
     "output_type": "stream",
     "text": [
      "2\n",
      "3\n",
      "5\n",
      "7\n",
      "11\n"
     ]
    }
   ],
   "source": [
    "def is_prime(num):\n",
    "    if num<2:\n",
    "        return False\n",
    "    for i in range(2, num):\n",
    "        if num % i==0:\n",
    "            return False\n",
    "    return True\n",
    "\n",
    "\n",
    "def find_primes(a, b):\n",
    "    for i in range(a, b+1):\n",
    "         if is_prime(i):# TODO\n",
    "             print(i)\n",
    "\n",
    "\n",
    "find_primes(1, 11)  # should print 2 3 5 7 11"
   ]
  },
  {
   "cell_type": "markdown",
   "metadata": {
    "id": "fceBNTpUnip6"
   },
   "source": [
    "### Task 4\n",
    "\n",
    "Write a function called `reverse_words` that takes a sentence as a parameter and prints the sentence with each word reversed, but the words are in the same order."
   ]
  },
  {
   "cell_type": "code",
   "execution_count": 29,
   "metadata": {
    "id": "VsoALrbBnsjs"
   },
   "outputs": [
    {
     "name": "stdout",
     "output_type": "stream",
     "text": [
      "kciuQ nworb xof spmuj revo a yzal god\n"
     ]
    }
   ],
   "source": [
    "# TODO\n",
    "def reverse_words(sentence: str) -> str:\n",
    "     words = sentence.split()\n",
    "     reversed_words = [word[::-1] for word in words]\n",
    "     return ' '.join(reversed_words) # combine words into sentence\n",
    "print(reverse_words(\"Quick brown fox jumps over a lazy dog\") ) # should print \"kciuQ nworb xof spmuj revo a yzal god\"\n"
   ]
  }
 ],
 "metadata": {
  "colab": {
   "provenance": [
    {
     "file_id": "1Lyh1UghlOoTD4rREDX3OCyeAFdHEv8X1",
     "timestamp": 1699961320572
    }
   ]
  },
  "kernelspec": {
   "display_name": "Python 3",
   "language": "python",
   "name": "python3"
  },
  "language_info": {
   "codemirror_mode": {
    "name": "ipython",
    "version": 3
   },
   "file_extension": ".py",
   "mimetype": "text/x-python",
   "name": "python",
   "nbconvert_exporter": "python",
   "pygments_lexer": "ipython3",
   "version": "3.10.10"
  },
  "orig_nbformat": 4
 },
 "nbformat": 4,
 "nbformat_minor": 0
}
