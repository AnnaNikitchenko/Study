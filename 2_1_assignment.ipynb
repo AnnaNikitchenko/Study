{
 "cells": [
  {
   "cell_type": "markdown",
   "metadata": {
    "id": "-89_Z_je0cfL"
   },
   "source": [
    "# Assignment 2.1\n",
    "\n",
    "> Replace all TODOs with your code.\n",
    ">\n",
    "> Do not change any other code and do not add/remove cells!"
   ]
  },
  {
   "cell_type": "markdown",
   "metadata": {
    "id": "w6E-GxTB0j4M"
   },
   "source": [
    "## Logical operators"
   ]
  },
  {
   "cell_type": "markdown",
   "metadata": {
    "id": "iEwuf_DP0cfM"
   },
   "source": [
    "### Task 1\n",
    "\n",
    "You have two switches: `switch1` and `switch2`. `True` - switch is on, `False` - switch is off.\n",
    "\n",
    "Implement a logical expression that turns the `res` on only when either `switch1` or `switch2` is on, but not both."
   ]
  },
  {
   "cell_type": "code",
   "execution_count": 2,
   "metadata": {
    "id": "IWVOCWxx0cfM",
    "tags": []
   },
   "outputs": [
    {
     "name": "stdout",
     "output_type": "stream",
     "text": [
      "res = True\n"
     ]
    }
   ],
   "source": [
    "switch1 = True\n",
    "switch2 = False\n",
    "\n",
    "res = switch1 or switch2\n",
    "\n",
    "print('res =', res) # should be True"
   ]
  },
  {
   "cell_type": "markdown",
   "metadata": {
    "id": "mZydlWw_0wzt"
   },
   "source": [
    "## Conditionals"
   ]
  },
  {
   "cell_type": "markdown",
   "metadata": {
    "id": "2z8HqsaK0cfN"
   },
   "source": [
    "### Task 2\n",
    "\n",
    "Declare variable `a` with some number. If the number is divisible by 5, print 'Yes', otherwise print 'No'."
   ]
  },
  {
   "cell_type": "code",
   "execution_count": 3,
   "metadata": {
    "id": "kva_9ycA0cfN"
   },
   "outputs": [
    {
     "name": "stdout",
     "output_type": "stream",
     "text": [
      "Yes\n"
     ]
    }
   ],
   "source": [
    "# TODO\n",
    "a = 25\n",
    "\n",
    "if a % 5 == 0:\n",
    "   print('Yes') # TODO\n",
    "else:\n",
    "   print('No') # TODO"
   ]
  },
  {
   "cell_type": "markdown",
   "metadata": {
    "id": "IqjW7SGS0cfN"
   },
   "source": [
    "### Task 3\n",
    "\n",
    "You have string `a`. If it is an empty string, assign to it a string 'empty'; otherwise, repeat the string five times."
   ]
  },
  {
   "cell_type": "code",
   "execution_count": 13,
   "metadata": {
    "id": "p83RQvA40cfN"
   },
   "outputs": [
    {
     "name": "stdout",
     "output_type": "stream",
     "text": [
      "res = hellohellohellohellohello\n"
     ]
    }
   ],
   "source": [
    "a = input() # TODO\n",
    "\n",
    "if a == '':\n",
    "    print ('empty')\n",
    "else: \n",
    "    res = a * 5\n",
    "    print('res =', res)\n"
   ]
  },
  {
   "cell_type": "markdown",
   "metadata": {
    "id": "xC6HlC7Ni998"
   },
   "source": [
    "## Loops"
   ]
  },
  {
   "cell_type": "markdown",
   "metadata": {
    "id": "CKS_sLMj0cfN"
   },
   "source": [
    "### Task 4\n",
    "Let's calculate the sum of the first `n` terms of the [harmonic series](https://en.wikipedia.org/wiki/Harmonic_series_(mathematics))."
   ]
  },
  {
   "cell_type": "code",
   "execution_count": 14,
   "metadata": {
    "id": "tXZbJ3Jn0cfN"
   },
   "outputs": [
    {
     "name": "stdout",
     "output_type": "stream",
     "text": [
      "res = 2.9289682539682538\n"
     ]
    }
   ],
   "source": [
    "n = 10\n",
    "res = 0\n",
    "\n",
    "i = 1# TODO\n",
    "\n",
    "while i <= n:\n",
    "     res += 1 / i\n",
    "     i += 1\n",
    "\n",
    "print('res =', res) # for n=10 should be 2.928968..."
   ]
  },
  {
   "cell_type": "markdown",
   "metadata": {
    "id": "a1oauilt0cfN"
   },
   "source": [
    "### Task 5\n",
    "Let's calculate the sum of the first `n` terms of the [alternating harmonic series](https://en.wikipedia.org/wiki/Harmonic_series_(mathematics)#Alternating_harmonic_series)."
   ]
  },
  {
   "cell_type": "code",
   "execution_count": 20,
   "metadata": {
    "id": "CLgRuR0H0cfO"
   },
   "outputs": [
    {
     "name": "stdout",
     "output_type": "stream",
     "text": [
      "res = 0.6456349206349207\n"
     ]
    }
   ],
   "source": [
    "n = 10\n",
    "res = 0\n",
    "i=1\n",
    "while i <= n:\n",
    "    res += ((-1)**(i+1))/i\n",
    "    i+=1\n",
    "\n",
    "print('res =', res)  # for n=10 should be 0.6456349..."
   ]
  },
  {
   "cell_type": "markdown",
   "metadata": {
    "id": "eZ-ucgAolFCa"
   },
   "source": [
    "### Task 6 (Optional)\n",
    "\n",
    "Write a program that prints the reverse of a given string using a while loop."
   ]
  },
  {
   "cell_type": "code",
   "execution_count": 21,
   "metadata": {
    "id": "WeTfYFSdlHxF"
   },
   "outputs": [
    {
     "name": "stdout",
     "output_type": "stream",
     "text": [
      "Reverse = gnirts_emos\n"
     ]
    }
   ],
   "source": [
    "string = \"some_string\"\n",
    "reverse = \"\"\n",
    "\n",
    "index = len(string) - 1 # TODO\n",
    "while index >=0:\n",
    "     reverse += string[index]\n",
    "     index -= 1\n",
    "\n",
    "print(\"Reverse =\", reverse)  # should be \"gnirts_emos\""
   ]
  },
  {
   "cell_type": "markdown",
   "metadata": {
    "id": "2R8JdPm2ps1s"
   },
   "source": [
    "## Match"
   ]
  },
  {
   "cell_type": "markdown",
   "metadata": {
    "id": "kvZBp2fOputr"
   },
   "source": [
    "### Task 7\n",
    "\n",
    "You have `shape` (such as \"square\", \"circle\", or \"triangle\"). Use a match statement to identify and classify the shape."
   ]
  },
  {
   "cell_type": "code",
   "execution_count": 22,
   "metadata": {
    "id": "tLDTs8lqpuXQ"
   },
   "outputs": [
    {
     "name": "stdout",
     "output_type": "stream",
     "text": [
      "This is a triangle\n"
     ]
    }
   ],
   "source": [
    "shape = \"triangle\"\n",
    "\n",
    "match shape:\n",
    "    case \"square\":\n",
    "        print(\"This is a square.\")\n",
    "    case \"circle\":\n",
    "        print(\"This is a circle\")\n",
    "    case \"triangle\":\n",
    "        print(\"This is a triangle\")\n",
    "\n",
    "\n",
    "# should print \"This is a triangle\""
   ]
  },
  {
   "cell_type": "markdown",
   "metadata": {
    "id": "Ih9N47crqpnM"
   },
   "source": [
    "### Task 8 (optional)\n",
    "\n",
    "Write a function called `process_data` that takes some data as a parameter and performs operations based on the data type using a match statement. You can use any operation of your choice.\n"
   ]
  },
  {
   "cell_type": "code",
   "execution_count": 32,
   "metadata": {
    "id": "_P8jKfQFqu2d"
   },
   "outputs": [
    {
     "data": {
      "text/plain": [
       "'Processing number: 22'"
      ]
     },
     "execution_count": 32,
     "metadata": {},
     "output_type": "execute_result"
    }
   ],
   "source": [
    "def process_data(data):\n",
    "    match data:\n",
    "        case int(data_int):\n",
    "            return f\"Processing number: {data_int * 2}\"\n",
    "        case float(data_float):\n",
    "            return f\"Processing number: {data_float //3}\"\n",
    "        case str(data_string):\n",
    "            return f\"Processing number:{len(data_string)}\"\n",
    "        case bool(data_bool):\n",
    "            return f\"Processing number:{data_bool == True}\"\n",
    "        case _:\n",
    "            return f\"Unsupported data type\"\n",
    "        # TODO float, str, bool, and default case\n",
    "\n",
    "process_data(11)"
   ]
  },
  {
   "cell_type": "markdown",
   "metadata": {
    "id": "F9bw1VqusCQc"
   },
   "source": [
    "### Task 9 (optional)\n",
    "\n",
    "Write a function called `process_options` that takes an `option` as a parameter and performs actions based on the match statement. You can perform any action of your choice."
   ]
  },
  {
   "cell_type": "code",
   "execution_count": 33,
   "metadata": {
    "id": "JeJ-4D9uq43v"
   },
   "outputs": [
    {
     "name": "stdout",
     "output_type": "stream",
     "text": [
      "Invalid input\n"
     ]
    }
   ],
   "source": [
    "def process_options(option):\n",
    "    match option:\n",
    "        case \"A\" | \"a\":\n",
    "            print(\"Option A selected.\")\n",
    "        case \"B\" | \"b\":\n",
    "            print(\"Option B selected\")\n",
    "        case \"C\" |\"c\":\n",
    "            print(\"Option C selcted\")\n",
    "        case _:\n",
    "            print(\"Invalid input\")\n",
    "            # TODO options B, C, and default case\n",
    "\n",
    "\n",
    "process_options('bla')  # should print \"Invalid input\""
   ]
  }
 ],
 "metadata": {
  "colab": {
   "provenance": []
  },
  "kernelspec": {
   "display_name": "Python 3",
   "language": "python",
   "name": "python3"
  },
  "language_info": {
   "codemirror_mode": {
    "name": "ipython",
    "version": 3
   },
   "file_extension": ".py",
   "mimetype": "text/x-python",
   "name": "python",
   "nbconvert_exporter": "python",
   "pygments_lexer": "ipython3",
   "version": "3.10.10"
  },
  "orig_nbformat": 4
 },
 "nbformat": 4,
 "nbformat_minor": 0
}
