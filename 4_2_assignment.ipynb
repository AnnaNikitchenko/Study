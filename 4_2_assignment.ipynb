{
 "cells": [
  {
   "cell_type": "markdown",
   "metadata": {
    "id": "-89_Z_je0cfL"
   },
   "source": [
    "# Assignment 4.2\n",
    "\n",
    "> Replace all TODOs with your code.\n",
    ">\n",
    "> Do not change any other code and do not add/remove cells!"
   ]
  },
  {
   "cell_type": "code",
   "execution_count": 5,
   "metadata": {
    "id": "4Zt3Ez5bCm1Q"
   },
   "outputs": [],
   "source": [
    "# Do not edit this cell\n",
    "\n",
    "from typing import List, Tuple"
   ]
  },
  {
   "cell_type": "markdown",
   "metadata": {
    "id": "w6E-GxTB0j4M"
   },
   "source": [
    "## Complexity"
   ]
  },
  {
   "cell_type": "markdown",
   "metadata": {
    "id": "iEwuf_DP0cfM"
   },
   "source": [
    "### Task 1\n",
    "\n",
    "For example, let's take a simple problem - find a maximum element in an input list. We know that the list is sorted in ascending order.\n",
    "\n",
    "Write a function `find_max(li: List[int]) -> int` that would return a maximum element of a sorted list `li`. You can assume `li` to be non-empty. As a last command of your cell, print the complexity of your algorithm. It should be one of:\n",
    "\n",
    "`{O(1), O(log n), O(n), O(nlog n), O(n^2), O(2^n)}`.\n",
    "\n",
    "Note: do not use `max` built-in function."
   ]
  },
  {
   "cell_type": "code",
   "execution_count": 7,
   "metadata": {
    "id": "IWVOCWxx0cfM",
    "tags": [
     "task_1"
    ]
   },
   "outputs": [
    {
     "name": "stdout",
     "output_type": "stream",
     "text": [
      "O(1)\n"
     ]
    }
   ],
   "source": [
    "def find_max(li: List[int]) -> int:\n",
    "   return li[-1] # TODO\n",
    "\n",
    "print(\"O(1)\")"
   ]
  },
  {
   "cell_type": "markdown",
   "metadata": {
    "id": "2z8HqsaK0cfN"
   },
   "source": [
    "### Task 2\n",
    "\n",
    "The same problem, now we don't know anything about the order in `li`. What's the complexity then? Print it as the last command of the cell.\n",
    "\n",
    "Note: do not use `max` built-in function.\n"
   ]
  },
  {
   "cell_type": "code",
   "execution_count": 8,
   "metadata": {
    "id": "kva_9ycA0cfN",
    "tags": [
     "task_2"
    ]
   },
   "outputs": [
    {
     "name": "stdout",
     "output_type": "stream",
     "text": [
      "O(n)\n"
     ]
    }
   ],
   "source": [
    "def find_max(li: List[int]) -> int:\n",
    "    max_val = li[0]\n",
    "    for val in li[1:]:\n",
    "        if val > max_val:\n",
    "            max_val = val\n",
    "    return max_val # TODO\n",
    "\n",
    "print(\"O(n)\")"
   ]
  },
  {
   "cell_type": "markdown",
   "metadata": {
    "id": "IqjW7SGS0cfN"
   },
   "source": [
    "### Task 3\n",
    "\n",
    "Now we are playing the guessing game! The user guesses the number between 1 and `n`, and your program makes guesses. If the guess is higher than the initial number, the user enters '<', if the number is lower - '>'. If the guess is correct, a user enters 'bingo'.\n",
    "\n",
    "Implement the program to play the game. As a last command of your cell, print the complexity of your algorithm (or the worst-case number of guesses your program needs to make before the correct guess). It should be one of:\n",
    "\n",
    "`{O(1), O(log n), O(n), O(nlog n), O(n^2), O(2^n)}`."
   ]
  },
  {
   "cell_type": "code",
   "execution_count": 11,
   "metadata": {
    "id": "p83RQvA40cfN",
    "tags": [
     "task_3"
    ]
   },
   "outputs": [
    {
     "name": "stdout",
     "output_type": "stream",
     "text": [
      "Is it 50?\n",
      "Is it 50?\n",
      "Is it 25?\n",
      "Is it 37?\n",
      "O(log n)\n"
     ]
    }
   ],
   "source": [
    "n = 100\n",
    "\n",
    "a = 1\n",
    "b = n\n",
    "\n",
    "while True:\n",
    "    mid = (a + b) // 2\n",
    "    print(f\"Is it {mid}?\")\n",
    "    response = input()\n",
    "    \n",
    "    if response == 'bingo':\n",
    "        break\n",
    "    elif response == '<':\n",
    "        b = mid - 1 \n",
    "    elif response == '>':\n",
    "        a = mid + 1# TODO\n",
    "\n",
    "print(\"O(log n)\")"
   ]
  }
 ],
 "metadata": {
  "colab": {
   "provenance": [
    {
     "file_id": "1237N3C4eJGL7ad5zcHR25e4zGnVS5-Wx",
     "timestamp": 1699962080713
    },
    {
     "file_id": "1Lyh1UghlOoTD4rREDX3OCyeAFdHEv8X1",
     "timestamp": 1699961320572
    }
   ],
   "toc_visible": true
  },
  "kernelspec": {
   "display_name": "Python 3",
   "language": "python",
   "name": "python3"
  },
  "language_info": {
   "codemirror_mode": {
    "name": "ipython",
    "version": 3
   },
   "file_extension": ".py",
   "mimetype": "text/x-python",
   "name": "python",
   "nbconvert_exporter": "python",
   "pygments_lexer": "ipython3",
   "version": "3.10.10"
  },
  "orig_nbformat": 4
 },
 "nbformat": 4,
 "nbformat_minor": 0
}
