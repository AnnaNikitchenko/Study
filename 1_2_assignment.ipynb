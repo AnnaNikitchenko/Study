{
 "cells": [
  {
   "cell_type": "markdown",
   "metadata": {
    "id": "-89_Z_je0cfL"
   },
   "source": [
    "# Assignment 1.2\n",
    "\n",
    "> Replace all TODOs with your code. Do not change any other code."
   ]
  },
  {
   "cell_type": "markdown",
   "metadata": {
    "id": "w6E-GxTB0j4M"
   },
   "source": [
    "## Boolean, None"
   ]
  },
  {
   "cell_type": "markdown",
   "metadata": {
    "id": "iEwuf_DP0cfM"
   },
   "source": [
    "### Task 1\n",
    "\n",
    "Replace all `TODO`s with one of the logical operators to make all the expressions `True`."
   ]
  },
  {
   "cell_type": "code",
   "execution_count": 1,
   "metadata": {
    "id": "IWVOCWxx0cfM",
    "tags": [
     "task_1"
    ]
   },
   "outputs": [
    {
     "name": "stdout",
     "output_type": "stream",
     "text": [
      "1 True\n",
      "2 True\n",
      "3 True\n",
      "4 True\n",
      "5 True\n"
     ]
    }
   ],
   "source": [
    "print('1', 4 < 5)\n",
    "print('2', 10 > 5)\n",
    "print('3', 42 == 42)\n",
    "print('4', 42 != \"42\")\n",
    "print('5', 'None' != None)"
   ]
  },
  {
   "cell_type": "markdown",
   "metadata": {
    "id": "mZydlWw_0wzt"
   },
   "source": [
    "## String"
   ]
  },
  {
   "cell_type": "markdown",
   "metadata": {
    "id": "2z8HqsaK0cfN"
   },
   "source": [
    "### Task 2\n",
    "\n",
    "You have a string in the variable `a`. Remove all letters \"e\" from it."
   ]
  },
  {
   "cell_type": "code",
   "execution_count": 4,
   "metadata": {
    "id": "kva_9ycA0cfN",
    "tags": [
     "task_2"
    ]
   },
   "outputs": [
    {
     "name": "stdout",
     "output_type": "stream",
     "text": [
      "res = Sombody said somthing to Samantha.\n"
     ]
    }
   ],
   "source": [
    "a = \"Somebody said something to Samantha.\"\n",
    "\n",
    "res = a.replace(\"e\", \"\") # TODO\n",
    "\n",
    "print('res =', res)  # Should be \"Sombody said somthing to Samantha\""
   ]
  },
  {
   "cell_type": "markdown",
   "metadata": {
    "id": "IqjW7SGS0cfN"
   },
   "source": [
    "### Task 3\n",
    "\n",
    "Make all letters of the string `a` lowercase."
   ]
  },
  {
   "cell_type": "code",
   "execution_count": 7,
   "metadata": {
    "id": "p83RQvA40cfN",
    "tags": [
     "task_3"
    ]
   },
   "outputs": [
    {
     "name": "stdout",
     "output_type": "stream",
     "text": [
      "res = animals\n"
     ]
    }
   ],
   "source": [
    "a = 'Animals'\n",
    "\n",
    "res = a.lower() # TODO\n",
    "\n",
    "print('res =', res)  # Should be \"animals\""
   ]
  },
  {
   "cell_type": "markdown",
   "metadata": {
    "id": "CKS_sLMj0cfN"
   },
   "source": [
    "### Task 4\n",
    "Remove all spaces from **the beginning and end** of the string `a`."
   ]
  },
  {
   "cell_type": "code",
   "execution_count": 9,
   "metadata": {
    "id": "tXZbJ3Jn0cfN",
    "tags": [
     "task_4"
    ]
   },
   "outputs": [
    {
     "name": "stdout",
     "output_type": "stream",
     "text": [
      "res = Fancy string\n"
     ]
    }
   ],
   "source": [
    "a = '   Fancy string   '\n",
    "\n",
    "res = a.strip() # TODO\n",
    "\n",
    "print('res =', res)  # Should be \"Fancy string\""
   ]
  },
  {
   "cell_type": "markdown",
   "metadata": {
    "id": "a1oauilt0cfN"
   },
   "source": [
    "### Task 5\n",
    "Remove all spaces from **the end** of the string `a`."
   ]
  },
  {
   "cell_type": "code",
   "execution_count": 12,
   "metadata": {
    "id": "CLgRuR0H0cfO",
    "tags": [
     "task_5"
    ]
   },
   "outputs": [
    {
     "name": "stdout",
     "output_type": "stream",
     "text": [
      "res =    Fancy string\n"
     ]
    }
   ],
   "source": [
    "a = '   Fancy string   '\n",
    "\n",
    "res = a.rstrip()# TODO\n",
    "\n",
    "print('res =', res)  # Should be \"   Fancy string\""
   ]
  }
 ],
 "metadata": {
  "colab": {
   "provenance": [],
   "toc_visible": true
  },
  "kernelspec": {
   "display_name": "Python 3",
   "language": "python",
   "name": "python3"
  },
  "language_info": {
   "codemirror_mode": {
    "name": "ipython",
    "version": 3
   },
   "file_extension": ".py",
   "mimetype": "text/x-python",
   "name": "python",
   "nbconvert_exporter": "python",
   "pygments_lexer": "ipython3",
   "version": "3.10.10"
  },
  "orig_nbformat": 4
 },
 "nbformat": 4,
 "nbformat_minor": 0
}
